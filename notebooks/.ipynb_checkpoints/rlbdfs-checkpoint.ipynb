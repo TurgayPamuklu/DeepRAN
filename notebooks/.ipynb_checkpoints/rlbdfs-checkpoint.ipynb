{
 "cells": [
  {
   "cell_type": "markdown",
   "metadata": {},
   "source": [
    "# 1. Import Libraries\n",
    "The first step is importing the libraries."
   ]
  },
  {
   "cell_type": "code",
   "execution_count": 1,
   "metadata": {
    "pycharm": {
     "name": "#%%\n"
    }
   },
   "outputs": [],
   "source": [
    "from gurobipy import *  # GRB_INIT\n",
    "\n",
    "from env_traffic import Traffic\n",
    "from printer import *"
   ]
  },
  {
   "cell_type": "markdown",
   "metadata": {},
   "source": [
    "# 2. Given Data\n",
    "## 2.1 Getting Link List and Link Costs"
   ]
  },
  {
   "cell_type": "code",
   "execution_count": 2,
   "metadata": {},
   "outputs": [
    {
     "name": "stdout",
     "output_type": "stream",
     "text": [
      "<gurobi.tuplelist (13 tuples, 2 values each):\n",
      " ( 0  , 11 )\n",
      " ( 0  , 12 )\n",
      " ( 0  , 13 )\n",
      " ( 11 , 12 )\n",
      " ( 11 , 14 )\n",
      " ( 11 , 15 )\n",
      " ( 12 , 13 )\n",
      " ( 12 , 14 )\n",
      " ( 12 , 15 )\n",
      " ( 13 , 14 )\n",
      " ( 13 , 15 )\n",
      " ( 14 , 20 )\n",
      " ( 15 , 20 )\n",
      ">\n"
     ]
    }
   ],
   "source": [
    "links = tuplelist()\n",
    "cost = {}\n",
    "OUTPUT_PATH = \"../output/\"\n",
    "with open(OUTPUT_PATH + \"links_shortest_path.csv\", 'r') as csv_file:\n",
    "    csv_reader = csv.reader(csv_file, delimiter=',', quotechar='|', quoting=csv.QUOTE_MINIMAL)\n",
    "    for row in csv_reader:\n",
    "        if csv_reader.line_num > 1:\n",
    "            from_node = int(row[0])\n",
    "            end_node = int(row[1])\n",
    "            cost[from_node, end_node] = float(row[2])\n",
    "            links.append((from_node, end_node))\n",
    "print(links)"
   ]
  },
  {
   "cell_type": "markdown",
   "metadata": {},
   "source": [
    "## 2.2 Nodes"
   ]
  },
  {
   "cell_type": "code",
   "execution_count": 3,
   "metadata": {},
   "outputs": [
    {
     "data": {
      "text/plain": [
       "[0, 11, 12, 13, 14, 15, 20]"
      ]
     },
     "execution_count": 3,
     "metadata": {},
     "output_type": "execute_result"
    }
   ],
   "source": [
    "nodes = [x[0] for x in links] + [x[1] for x in links]\n",
    "nodes = set(nodes)\n",
    "nodes = list(nodes)\n",
    "source_node = 0\n",
    "destination_node = 20\n",
    "nodes\n"
   ]
  },
  {
   "cell_type": "markdown",
   "metadata": {},
   "source": [
    "# 3. Creating Model Object "
   ]
  },
  {
   "cell_type": "code",
   "execution_count": 4,
   "metadata": {},
   "outputs": [
    {
     "name": "stdout",
     "output_type": "stream",
     "text": [
      "Using license file C:\\Users\\turgay.pamuklu\\gurobi.lic\n"
     ]
    },
    {
     "ename": "GurobiError",
     "evalue": "License expired 2020-11-21",
     "output_type": "error",
     "traceback": [
      "\u001b[1;31m---------------------------------------------------------------------------\u001b[0m",
      "\u001b[1;31mGurobiError\u001b[0m                               Traceback (most recent call last)",
      "\u001b[1;32m<ipython-input-4-5215c8dbaa89>\u001b[0m in \u001b[0;36m<module>\u001b[1;34m\u001b[0m\n\u001b[1;32m----> 1\u001b[1;33m \u001b[0mm\u001b[0m \u001b[1;33m=\u001b[0m \u001b[0mModel\u001b[0m\u001b[1;33m(\u001b[0m\u001b[1;33m)\u001b[0m  \u001b[1;31m# GRB_INIT\u001b[0m\u001b[1;33m\u001b[0m\u001b[1;33m\u001b[0m\u001b[0m\n\u001b[0m\u001b[0;32m      2\u001b[0m \u001b[1;33m\u001b[0m\u001b[0m\n",
      "\u001b[1;32msrc\\gurobipy\\env.pxi\u001b[0m in \u001b[0;36mgurobipy.gurobipy.Env.__init__\u001b[1;34m()\u001b[0m\n",
      "\u001b[1;32msrc\\gurobipy\\gurobi.pxi\u001b[0m in \u001b[0;36mgurobipy.gurobipy.gurobi._getdefaultenv\u001b[1;34m()\u001b[0m\n",
      "\u001b[1;32msrc\\gurobipy\\env.pxi\u001b[0m in \u001b[0;36mgurobipy.gurobipy.Env.__init__\u001b[1;34m()\u001b[0m\n",
      "\u001b[1;31mGurobiError\u001b[0m: License expired 2020-11-21"
     ]
    }
   ],
   "source": [
    "m = Model()  # GRB_INIT"
   ]
  },
  {
   "cell_type": "markdown",
   "metadata": {},
   "source": [
    "# 3. Defining Decision Variables"
   ]
  },
  {
   "cell_type": "code",
   "execution_count": null,
   "metadata": {},
   "outputs": [],
   "source": [
    "decision_l = m.addVars(links, vtype=GRB.BINARY)\n",
    "print(decision_l)\n"
   ]
  },
  {
   "cell_type": "markdown",
   "metadata": {},
   "source": [
    "# 4. Objective Function\n",
    "\\begin{equation}\n",
    "\\label{eq:obj}\n",
    "\\sum\\limits_{(u,v)\\in\\mathcal{E}} l_{(u,v)} * cost_{(u,v)}\n",
    "\\end{equation}"
   ]
  },
  {
   "cell_type": "code",
   "execution_count": null,
   "metadata": {},
   "outputs": [],
   "source": [
    "m.setObjective(quicksum(decision_l[u, v] * cost[u, v] for u, v in links), GRB.MINIMIZE)"
   ]
  },
  {
   "cell_type": "markdown",
   "metadata": {},
   "source": [
    "# 5. Constraints\n",
    "\\begin{equation}\n",
    "\\label{eq:routing}\n",
    "\\sum\\limits_{v\\in\\mathcal{V}} l_{(u,v)} - \\sum\\limits_{v\\in\\mathcal{V}} l_{(v,u)}  =\n",
    "\\begin{cases} \n",
    "1, & \\text{if } u = source\\_node \\\\\n",
    "-1,& \\text{if } u = destination\\_node \\\\\n",
    "0, & \\text{otherwise}\n",
    "\\end{cases}\n",
    "\\\\ \\forall u\\in\\mathcal{V}\n",
    "\\end{equation}"
   ]
  },
  {
   "cell_type": "code",
   "execution_count": null,
   "metadata": {},
   "outputs": [],
   "source": [
    "for u in nodes:\n",
    "    m.addConstr(quicksum(decision_l[u, v] for u, v in links.select(u, '*'))\n",
    "                - quicksum(decision_l[v, u] for v, u in links.select('*', u)) ==\n",
    "                (1 if u == source_node else -1 if u == destination_node else 0))\n",
    "m.addConstr(quicksum(decision_l[u,v] for u, v in links.select('*', 12)) == 1)"
   ]
  },
  {
   "cell_type": "markdown",
   "metadata": {},
   "source": [
    "# 6. Running Solver"
   ]
  },
  {
   "cell_type": "code",
   "execution_count": null,
   "metadata": {},
   "outputs": [],
   "source": [
    "m.optimize()"
   ]
  },
  {
   "cell_type": "markdown",
   "metadata": {},
   "source": [
    "# 7. Selected Links"
   ]
  },
  {
   "cell_type": "code",
   "execution_count": null,
   "metadata": {},
   "outputs": [],
   "source": [
    "for u, v in links:\n",
    "    if decision_l[u, v].x == 1:\n",
    "        print(\"u:{} v:{} l:{}\".format(u,v,decision_l[u, v].x * cost[u, v]))"
   ]
  },
  {
   "cell_type": "markdown",
   "metadata": {},
   "source": [
    "# 8. Plot Results"
   ]
  },
  {
   "cell_type": "code",
   "execution_count": null,
   "metadata": {},
   "outputs": [],
   "source": [
    "G = nx.DiGraph()\n",
    "G.add_nodes_from(nodes)\n",
    "for u, v in links:\n",
    "    G.add_edge(u, v)\n",
    "\n",
    "# Adding the position attribute to each node\n",
    "node_pos = {0: (0, 4),\n",
    "            11: (2, 2), 12: (2, 4), 13: (2, 6), 14: (4, 3), 15: (4, 6),\n",
    "            20: (6, 4)}\n",
    "\n",
    "# Create a list of edges in shortest path\n",
    "red_edges = [(i, j) for i, j in links if decision_l[i, j].x > 0]\n",
    "\n",
    "# Create a list of nodes in shortest path\n",
    "sp = [i for i, j in links if decision_l[i, j].x > 0]\n",
    "sp.append(destination_node)\n",
    "\n",
    "# If the node is in the shortest path, set it to red, else set it to white color\n",
    "node_col = ['white' if not node in sp else 'red' for node in G.nodes()]\n",
    "# If the edge is in the shortest path set it to red, else set it to white color\n",
    "edge_col = ['black' if not edge in red_edges else 'red' for edge in G.edges()]\n",
    "# Draw the nodes\n",
    "nx.draw_networkx(G, node_pos, node_color=node_col, node_size=450)\n",
    "# Draw the node labels\n",
    "# nx.draw_networkx_labels(G1, node_pos,node_color= node_col)\n",
    "# Draw the edges\n",
    "nx.draw_networkx_edges(G, node_pos,edge_color=edge_col)\n",
    "# Draw the edge labels\n",
    "nx.draw_networkx_edge_labels(G, node_pos, edge_color=edge_col, edge_labels=cost)\n",
    "# Remove the axis\n",
    "plt.axis('off')\n",
    "\n",
    "# Show the plot\n",
    "plt.show()\n"
   ]
  },
  {
   "cell_type": "code",
   "execution_count": null,
   "metadata": {
    "pycharm": {
     "name": "#%%\n"
    }
   },
   "outputs": [],
   "source": []
  },
  {
   "cell_type": "code",
   "execution_count": null,
   "metadata": {
    "pycharm": {
     "name": "#%%\n"
    }
   },
   "outputs": [],
   "source": []
  },
  {
   "cell_type": "code",
   "execution_count": null,
   "metadata": {},
   "outputs": [],
   "source": []
  },
  {
   "cell_type": "code",
   "execution_count": null,
   "metadata": {},
   "outputs": [],
   "source": []
  },
  {
   "cell_type": "code",
   "execution_count": null,
   "metadata": {},
   "outputs": [],
   "source": []
  }
 ],
 "metadata": {
  "kernelspec": {
   "display_name": "PyCharm (RenDepPython)",
   "language": "python",
   "name": "pycharm-de52d493"
  },
  "language_info": {
   "codemirror_mode": {
    "name": "ipython",
    "version": 3
   },
   "file_extension": ".py",
   "mimetype": "text/x-python",
   "name": "python",
   "nbconvert_exporter": "python",
   "pygments_lexer": "ipython3",
   "version": "3.8.3"
  }
 },
 "nbformat": 4,
 "nbformat_minor": 1
}
