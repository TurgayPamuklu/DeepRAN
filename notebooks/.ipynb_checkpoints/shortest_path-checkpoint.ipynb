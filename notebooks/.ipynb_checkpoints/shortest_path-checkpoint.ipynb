{
 "cells": [
  {
   "cell_type": "markdown",
   "metadata": {},
   "source": [
    "# Solving the Shortest Path Problem with GUROBI\n",
    "# 1. Import Libraries\n",
    "The first step is importing the libraries."
   ]
  },
  {
   "cell_type": "code",
   "execution_count": 8,
   "metadata": {
    "pycharm": {
     "name": "#%%\n"
    }
   },
   "outputs": [],
   "source": [
    "import csv\n",
    "import networkx as nx\n",
    "import matplotlib.pyplot as plt\n",
    "from gurobipy import *  # GRB_INIT"
   ]
  },
  {
   "cell_type": "markdown",
   "metadata": {},
   "source": [
    "# 2. Given Data\n",
    "## 2.1 Getting Link List and Link Costs"
   ]
  },
  {
   "cell_type": "code",
   "execution_count": 11,
   "metadata": {},
   "outputs": [
    {
     "name": "stdout",
     "output_type": "stream",
     "text": [
      "{(0, 11): 30.0, (0, 12): 10.0, (0, 13): 20.0, (11, 12): 5.0, (11, 14): 20.0, (11, 15): 30.0, (12, 13): 50.0, (12, 14): 30.0, (12, 15): 30.0, (13, 14): 30.0, (13, 15): 20.0, (14, 20): 30.0, (15, 20): 30.0}\n"
     ]
    }
   ],
   "source": [
    "links = tuplelist()\n",
    "cost = {}\n",
    "with open(\"links_shortest_path.csv\", 'r') as csv_file:\n",
    "    csv_reader = csv.reader(csv_file, delimiter=',', quotechar='|', quoting=csv.QUOTE_MINIMAL)\n",
    "    for row in csv_reader:\n",
    "        if csv_reader.line_num > 1:\n",
    "            from_node = int(row[0])\n",
    "            end_node = int(row[1])\n",
    "            cost[from_node, end_node] = float(row[2])\n",
    "            links.append((from_node, end_node))\n",
    "print(cost)"
   ]
  },
  {
   "cell_type": "markdown",
   "metadata": {},
   "source": [
    "## 2.2 Nodes"
   ]
  },
  {
   "cell_type": "code",
   "execution_count": 12,
   "metadata": {},
   "outputs": [],
   "source": [
    "nodes = [x[0] for x in links] + [x[1] for x in links]\n",
    "nodes = set(nodes)\n",
    "nodes = list(nodes)\n",
    "source_node = 0\n",
    "destination_node = 20\n"
   ]
  },
  {
   "cell_type": "markdown",
   "metadata": {},
   "source": [
    "# 3. Creating Model Object "
   ]
  },
  {
   "cell_type": "code",
   "execution_count": 13,
   "metadata": {},
   "outputs": [],
   "source": [
    "m = Model()  # GRB_INIT"
   ]
  },
  {
   "cell_type": "markdown",
   "metadata": {},
   "source": [
    "# 3. Defining Decision Variables"
   ]
  },
  {
   "cell_type": "code",
   "execution_count": 14,
   "metadata": {},
   "outputs": [],
   "source": [
    "decision_l = m.addVars(links, vtype=GRB.BINARY)\n"
   ]
  },
  {
   "cell_type": "markdown",
   "metadata": {},
   "source": [
    "# 4. Objective Function\n",
    "\\begin{equation}\n",
    "\\label{eq:obj}\n",
    "\\sum\\limits_{(u,v)\\in\\mathcal{E}} l_{(u,v)} * cost_{(u,v)}\n",
    "\\end{equation}"
   ]
  },
  {
   "cell_type": "code",
   "execution_count": 15,
   "metadata": {},
   "outputs": [],
   "source": [
    "m.setObjective(quicksum(decision_l[u, v] * cost[u, v] for u, v in links), GRB.MINIMIZE)"
   ]
  },
  {
   "cell_type": "markdown",
   "metadata": {},
   "source": [
    "# 5. Constraints\n",
    "\\begin{equation}\n",
    "\\label{eq:routing}\n",
    "\\sum\\limits_{v\\in\\mathcal{V}} l_{(u,v)} - \\sum\\limits_{v\\in\\mathcal{V}} l_{(v,u)}  =\n",
    "\\begin{cases} \n",
    "1, & \\text{if } u = source\\_node \\\\\n",
    "-1,& \\text{if } u = destination\\_node \\\\\n",
    "0, & \\text{otherwise}\n",
    "\\end{cases}\n",
    "\\\\ \\forall u\\in\\mathcal{V}\n",
    "\\end{equation}"
   ]
  },
  {
   "cell_type": "code",
   "execution_count": 16,
   "metadata": {},
   "outputs": [],
   "source": [
    "for u in nodes:\n",
    "    m.addConstr(quicksum(decision_l[u, v] for u, v in links.select(u, '*'))\n",
    "                - quicksum(decision_l[v, u] for v, u in links.select('*', u)) ==\n",
    "                (1 if u == source_node else -1 if u == destination_node else 0))"
   ]
  },
  {
   "cell_type": "markdown",
   "metadata": {},
   "source": [
    "# 6. Running Solver"
   ]
  },
  {
   "cell_type": "code",
   "execution_count": 17,
   "metadata": {},
   "outputs": [
    {
     "name": "stdout",
     "output_type": "stream",
     "text": [
      "Gurobi Optimizer version 9.1.0 build v9.1.0rc0 (win64)\n",
      "Thread count: 4 physical cores, 8 logical processors, using up to 8 threads\n",
      "Optimize a model with 7 rows, 13 columns and 26 nonzeros\n",
      "Model fingerprint: 0xf2e9cbcf\n",
      "Variable types: 0 continuous, 13 integer (13 binary)\n",
      "Coefficient statistics:\n",
      "  Matrix range     [1e+00, 1e+00]\n",
      "  Objective range  [5e+00, 5e+01]\n",
      "  Bounds range     [1e+00, 1e+00]\n",
      "  RHS range        [1e+00, 1e+00]\n",
      "Found heuristic solution: objective 80.0000000\n",
      "Presolve removed 7 rows and 13 columns\n",
      "Presolve time: 0.10s\n",
      "Presolve: All rows and columns removed\n",
      "\n",
      "Explored 0 nodes (0 simplex iterations) in 0.56 seconds\n",
      "Thread count was 1 (of 8 available processors)\n",
      "\n",
      "Solution count 2: 70 \n",
      "\n",
      "Optimal solution found (tolerance 1.00e-04)\n",
      "Best objective 7.000000000000e+01, best bound 7.000000000000e+01, gap 0.0000%\n"
     ]
    }
   ],
   "source": [
    "m.optimize()"
   ]
  },
  {
   "cell_type": "markdown",
   "metadata": {},
   "source": [
    "# 7. Selected Links"
   ]
  },
  {
   "cell_type": "code",
   "execution_count": 18,
   "metadata": {},
   "outputs": [
    {
     "name": "stdout",
     "output_type": "stream",
     "text": [
      "u:0 v:12 l:10.0\n",
      "u:12 v:15 l:30.0\n",
      "u:15 v:20 l:30.0\n"
     ]
    }
   ],
   "source": [
    "for u, v in links:\n",
    "    if decision_l[u, v].x == 1:\n",
    "        print(\"u:{} v:{} l:{}\".format(u,v,decision_l[u, v].x * cost[u, v]))"
   ]
  },
  {
   "cell_type": "markdown",
   "metadata": {},
   "source": [
    "# 8. Plot Results"
   ]
  },
  {
   "cell_type": "code",
   "execution_count": 19,
   "metadata": {},
   "outputs": [
    {
     "data": {
      "image/png": "[encoded data removed]",
      "text/plain": [
       "<Figure size 432x288 with 1 Axes>"
      ]
     },
     "metadata": {},
     "output_type": "display_data"
    }
   ],
   "source": [
    "G = nx.DiGraph()\n",
    "G.add_nodes_from(nodes)\n",
    "for u, v in links:\n",
    "    G.add_edge(u, v)\n",
    "\n",
    "# Adding the position attribute to each node\n",
    "node_pos = {0: (0, 4),\n",
    "            11: (2, 2), 12: (2, 4), 13: (2, 6), 14: (4, 3), 15: (4, 6),\n",
    "            20: (6, 4)}\n",
    "\n",
    "# Create a list of edges in shortest path\n",
    "red_edges = [(i, j) for i, j in links if decision_l[i, j].x > 0]\n",
    "\n",
    "# Create a list of nodes in shortest path\n",
    "sp = [i for i, j in links if decision_l[i, j].x > 0]\n",
    "sp.append(destination_node)\n",
    "\n",
    "# If the node is in the shortest path, set it to red, else set it to white color\n",
    "node_col = ['white' if not node in sp else 'red' for node in G.nodes()]\n",
    "# If the edge is in the shortest path set it to red, else set it to white color\n",
    "edge_col = ['black' if not edge in red_edges else 'red' for edge in G.edges()]\n",
    "# Draw the nodes\n",
    "nx.draw_networkx(G, node_pos, node_color=node_col, node_size=450)\n",
    "# Draw the node labels\n",
    "# nx.draw_networkx_labels(G1, node_pos,node_color= node_col)\n",
    "# Draw the edges\n",
    "nx.draw_networkx_edges(G, node_pos,edge_color=edge_col)\n",
    "# Draw the edge labels\n",
    "nx.draw_networkx_edge_labels(G, node_pos, edge_color=edge_col, edge_labels=cost)\n",
    "# Remove the axis\n",
    "plt.axis('off')\n",
    "\n",
    "# Show the plot\n",
    "plt.show()\n"
   ]
  },
  {
   "cell_type": "code",
   "execution_count": null,
   "metadata": {
    "pycharm": {
     "name": "#%%\n"
    }
   },
   "outputs": [],
   "source": []
  },
  {
   "cell_type": "code",
   "execution_count": null,
   "metadata": {
    "pycharm": {
     "name": "#%%\n"
    }
   },
   "outputs": [],
   "source": []
  },
  {
   "cell_type": "code",
   "execution_count": null,
   "metadata": {},
   "outputs": [],
   "source": []
  },
  {
   "cell_type": "code",
   "execution_count": null,
   "metadata": {},
   "outputs": [],
   "source": []
  },
  {
   "cell_type": "code",
   "execution_count": null,
   "metadata": {},
   "outputs": [],
   "source": []
  }
 ],
 "metadata": {
  "kernelspec": {
   "display_name": "PyCharm (RenDepPython)",
   "language": "python",
   "name": "pycharm-de52d493"
  },
  "language_info": {
   "codemirror_mode": {
    "name": "ipython",
    "version": 3
   },
   "file_extension": ".py",
   "mimetype": "text/x-python",
   "name": "python",
   "nbconvert_exporter": "python",
   "pygments_lexer": "ipython3",
   "version": "3.8.3"
  }
 },
 "nbformat": 4,
 "nbformat_minor": 1
}
